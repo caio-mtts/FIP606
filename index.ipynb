{
  "cells": [
    {
      "cell_type": "raw",
      "metadata": {},
      "source": [
        "---\n",
        "title: \"FIP 606 | por Caio M.\"\n",
        "about: \n",
        "  template: jolla\n",
        "  image: \"fig1.png\"\n",
        "  image-shape: round\n",
        "output:\n",
        "  html-document:\n",
        "  css: style.css\n",
        "---"
      ],
      "id": "77afb800"
    },
    {
      "cell_type": "markdown",
      "metadata": {},
      "source": [
        "```{css}\n",
        "#| echo: false\n",
        "p {\n",
        "  text-align: justify\n",
        "}\n",
        "```\n",
        "\n",
        "\n",
        "Olá,\n",
        "\n",
        "Sem bem-vindo ao meu caderno de aulas da disciplina FIP 606 - Análise e Visualização de Dados em Fitopatologia.\n",
        "\n",
        "Eu me chamo Caio M. Pereira e sou doutorando do [programa de pós-graduação em Fitopatologia](https://www.dfp.ufv.br/pos/) da Universidade Federal de Viçosa (UFV).\n",
        "\n",
        "Este site foi em criado com base em Quarto, com o objetivo de armazenar e compartilhar as informações e scripts gerados ao longo das aulas da disciplina FIP 606 - Análise e Visualização de Dados em Fitopatologia, ministrada pelo [Prof. Emerson Del Ponte](https://www.dfp.ufv.br/departamento/docentes/delponte/), e cursada no primeiro de semestre de 2024.\n",
        "\n",
        "Fique à vontade para explorar este website e espero que as informações aqui contidas sejam úteis."
      ],
      "id": "c3d0e040"
    }
  ],
  "metadata": {
    "kernelspec": {
      "display_name": "Python 3",
      "language": "python",
      "name": "python3"
    }
  },
  "nbformat": 4,
  "nbformat_minor": 5
}